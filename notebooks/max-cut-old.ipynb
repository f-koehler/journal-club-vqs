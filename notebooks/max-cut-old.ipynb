{
 "cells": [
  {
   "cell_type": "code",
   "execution_count": null,
   "metadata": {},
   "outputs": [],
   "source": [
    "%matplotlib widget\n",
    "%config InlineBackend.figure_format = 'svg'\n",
    "import networkx\n",
    "from typing import List, Tuple\n",
    "import matplotlib.pyplot as plt\n",
    "import numpy"
   ]
  },
  {
   "cell_type": "markdown",
   "metadata": {},
   "source": [
    "# Setup"
   ]
  },
  {
   "cell_type": "markdown",
   "metadata": {},
   "source": [
    "## Specify Graph"
   ]
  },
  {
   "cell_type": "code",
   "execution_count": null,
   "metadata": {},
   "outputs": [],
   "source": [
    "edges: List[Tuple[int, int, float]] = [\n",
    "    (0, 1, 1.0),\n",
    "    (0, 2, 1.0),\n",
    "    (1, 2, 1.0),\n",
    "    (1, 3, 1.0),\n",
    "    (2, 3, 1.0),\n",
    "]"
   ]
  },
  {
   "cell_type": "code",
   "execution_count": null,
   "metadata": {},
   "outputs": [],
   "source": [
    "graph = networkx.Graph()\n",
    "graph.add_weighted_edges_from(edges)\n",
    "N = graph.number_of_nodes()"
   ]
  },
  {
   "cell_type": "code",
   "execution_count": null,
   "metadata": {},
   "outputs": [],
   "source": [
    "fig, ax = plt.subplots(1, 1)\n",
    "positions = networkx.spring_layout(graph, fixed=[0, 3], pos={0: (-0.5, 0), 3: (0.5, 0)})\n",
    "networkx.draw_networkx_nodes(graph, positions)\n",
    "networkx.draw_networkx_edges(graph, positions)\n",
    "networkx.draw_networkx_labels(graph, positions, font_color=\"white\")\n",
    "networkx.draw_networkx_edge_labels(\n",
    "    graph, positions, edge_labels=networkx.get_edge_attributes(graph, \"weight\")\n",
    ")\n",
    "\n",
    "fig.set_size_inches(3.2, 2.4)\n",
    "fig.set_tight_layout(True)\n",
    "cut = 1.2\n",
    "xmax = cut * max(x for x, _ in positions.values())\n",
    "ymax = cut * max(y for _, y in positions.values())\n",
    "xmin = cut * min(x for x, _ in positions.values())\n",
    "ymin = cut * min(y for _, y in positions.values())\n",
    "ax.set_xlim(xmin, xmax)\n",
    "ax.set_ylim(ymin, ymax)\n",
    "fig.savefig(\"graph.svg\")"
   ]
  },
  {
   "cell_type": "markdown",
   "metadata": {},
   "source": [
    "## Setup Problem for Qiskit\n",
    "\n",
    "First we obtain the weight matrix of the graph:"
   ]
  },
  {
   "cell_type": "code",
   "execution_count": null,
   "metadata": {},
   "outputs": [],
   "source": [
    "weight_matrix = networkx.convert_matrix.to_numpy_array(graph)\n",
    "weight_matrix"
   ]
  },
  {
   "cell_type": "markdown",
   "metadata": {},
   "source": [
    "Qiskit provides a handy routine to obtain the Ising Hamiltonian associated with the Maximum-Cut problem. It returns a weighted Ising operator and an energy offset from the constant term."
   ]
  },
  {
   "cell_type": "code",
   "execution_count": null,
   "metadata": {},
   "outputs": [],
   "source": [
    "from qiskit.optimization.applications.ising import max_cut\n",
    "\n",
    "hamiltonian, offset = max_cut.get_operator(weight_matrix)\n",
    "print(\"Hamiltonian:\")\n",
    "print(\"------------\")\n",
    "print(hamiltonian)\n",
    "print(\"energy offset:\", offset)\n",
    "print(hamiltonian.print_details())"
   ]
  },
  {
   "cell_type": "markdown",
   "metadata": {},
   "source": [
    "# Solve the Problem"
   ]
  },
  {
   "cell_type": "code",
   "execution_count": null,
   "metadata": {},
   "outputs": [],
   "source": [
    "def plot_solution(solution: List[int]):\n",
    "    fig, ax = plt.subplots(1, 1)\n",
    "    colors = [\"C1\" if solution[i] else \"C0\" for i in range(N)]\n",
    "    networkx.draw_networkx_nodes(graph, positions, node_color=colors)\n",
    "    networkx.draw_networkx_edges(graph, positions)\n",
    "    networkx.draw_networkx_labels(graph, positions, font_color=\"white\")\n",
    "    networkx.draw_networkx_edge_labels(\n",
    "        graph, positions, edge_labels=networkx.get_edge_attributes(graph, \"weight\")\n",
    "    )\n",
    "    fig.set_size_inches(3.2, 2.4)\n",
    "    fig.set_tight_layout(True)"
   ]
  },
  {
   "cell_type": "markdown",
   "metadata": {},
   "source": [
    "## Brute-Force"
   ]
  },
  {
   "cell_type": "code",
   "execution_count": null,
   "metadata": {},
   "outputs": [],
   "source": [
    "best_profit = 0.0\n",
    "\n",
    "\n",
    "def generate_binary_list(index: int) -> List[int]:\n",
    "    # generate solution candidates (lists of 0's and 1's):\n",
    "    # 1. bin() converts to binary string\n",
    "    # 2. [:2] removes the '0b' prefix\n",
    "    # 3. .zfill(N) prepends 0s until a length of N has been achieved\n",
    "    return [int(digit) for digit in bin(combination)[2:].zfill(N)]\n",
    "\n",
    "\n",
    "for combination in range(2 ** N):\n",
    "    # generate solution candidates (lists of 0's and 1's):\n",
    "    # 1. bin() converts to binary string\n",
    "    # 2. [:2] removes the '0b' prefix\n",
    "    # 3. .zfill(N) prepends 0s until a length of N has been achieved\n",
    "    binary = generate_binary_list(combination)\n",
    "\n",
    "    # evaluate the cost function\n",
    "    profit = 0.0\n",
    "    for i in range(N):\n",
    "        for j in range(N):\n",
    "            profit += weight_matrix[i, j] * binary[i] * (1 - binary[j])\n",
    "\n",
    "    # check if we found a better solution\n",
    "    if profit > best_profit:\n",
    "        best_profit = profit\n",
    "        solution = binary\n",
    "\n",
    "    # print info about current combination\n",
    "    print(\n",
    "        \"combination {}: binary = {}, profit = {}\".format(\n",
    "            combination, str(binary), profit\n",
    "        )\n",
    "    )\n",
    "\n",
    "print()\n",
    "print(\"optimal solution: binary = {}, profit = {}\".format(str(solution), best_profit))\n",
    "\n",
    "plot_solution(solution)"
   ]
  },
  {
   "cell_type": "markdown",
   "metadata": {},
   "source": [
    "## Diagonalize Ising Hamiltonian"
   ]
  },
  {
   "cell_type": "code",
   "execution_count": null,
   "metadata": {},
   "outputs": [],
   "source": [
    "from qiskit.aqua.algorithms import NumPyMinimumEigensolver\n",
    "from qiskit.optimization.applications.ising.common import sample_most_likely\n",
    "\n",
    "result_diag = NumPyMinimumEigensolver(hamiltonian).run()\n",
    "energy_diag = result_diag.eigenvalue.real + offset\n",
    "\n",
    "state = sample_most_likely(result_diag.eigenstate)\n",
    "print(\"ground state energy:\", energy_diag)\n",
    "print(\"maximum profit:\", -energy_diag)\n",
    "print(\"most likely binary string:\", state)\n",
    "plot_solution(state)"
   ]
  },
  {
   "cell_type": "markdown",
   "metadata": {},
   "source": [
    "## VQE on Simulated Quantum Computer"
   ]
  },
  {
   "cell_type": "markdown",
   "metadata": {},
   "source": [
    "Initialize classical optimization algorithm:"
   ]
  },
  {
   "cell_type": "code",
   "execution_count": null,
   "metadata": {},
   "outputs": [],
   "source": [
    "from qiskit.aqua.components.optimizers import SPSA, COBYLA\n",
    "\n",
    "optimizer = COBYLA()"
   ]
  },
  {
   "cell_type": "markdown",
   "metadata": {},
   "source": [
    "Initialize quantum circuit:"
   ]
  },
  {
   "cell_type": "code",
   "execution_count": null,
   "metadata": {},
   "outputs": [],
   "source": [
    "from qiskit.circuit.library import TwoLocal\n",
    "\n",
    "circuit = TwoLocal(hamiltonian.num_qubits, \"ry\", \"cz\", reps=5, entanglement=\"linear\")\n",
    "circuit.draw(filename=\"circuit.svg\")\n",
    "circuit"
   ]
  },
  {
   "cell_type": "code",
   "execution_count": null,
   "metadata": {},
   "outputs": [],
   "source": [
    "from qiskit import aqua\n",
    "\n",
    "aqua.aqua_globals.random_seed = numpy.random.default_rng(498615)\n",
    "seed = 198687"
   ]
  },
  {
   "cell_type": "markdown",
   "metadata": {},
   "source": [
    "### Without Noise"
   ]
  },
  {
   "cell_type": "markdown",
   "metadata": {},
   "source": [
    "Initialize instance of the quantum simulator and set fixed speeds in order to reproduce the results:"
   ]
  },
  {
   "cell_type": "code",
   "execution_count": null,
   "metadata": {},
   "outputs": [],
   "source": [
    "from qiskit.aqua import QuantumInstance\n",
    "from qiskit.providers.aer import StatevectorSimulator\n",
    "\n",
    "backend = StatevectorSimulator(method=\"statevector\")\n",
    "\n",
    "quantum_instance = QuantumInstance(backend, seed_simulator=seed, seed_transpiler=seed)"
   ]
  },
  {
   "cell_type": "markdown",
   "metadata": {},
   "source": [
    "We create an instance of the VQE algorithm using the Ising Hamiltonian, the classical optimizer and the quantum simulator. Additionally we provide a callback function that gathers metrics for each iteration."
   ]
  },
  {
   "cell_type": "code",
   "execution_count": null,
   "metadata": {},
   "outputs": [],
   "source": [
    "from qiskit.aqua.algorithms import VQE\n",
    "\n",
    "means_vqe = []\n",
    "\n",
    "\n",
    "def callback(evaluations: int, parameters: numpy.ndarray, mean: float, stddev: float):\n",
    "    means_vqe.append(mean)\n",
    "\n",
    "\n",
    "vqe = VQE(\n",
    "    hamiltonian,\n",
    "    circuit,\n",
    "    optimizer,\n",
    "    quantum_instance=quantum_instance,\n",
    "    callback=callback,\n",
    ")\n",
    "result_vqe = vqe.run()\n",
    "\n",
    "means_vqe = numpy.array(means_vqe)"
   ]
  },
  {
   "cell_type": "code",
   "execution_count": null,
   "metadata": {},
   "outputs": [],
   "source": [
    "fig, ax = plt.subplots(1, 1)\n",
    "ax.plot(means_vqe + offset, label=\"VQE\")\n",
    "ax.axhline(energy_diag, color=\"C1\", label=\"exact\")\n",
    "ax.set_xlabel(\"iteration\")\n",
    "ax.set_ylabel(r\"$\\langle H_{\\mathrm{MC}}\\rangle$\")\n",
    "ax.set_title(\"VQE Convergence\")\n",
    "ax.legend()\n",
    "ax.grid(True)\n",
    "fig.savefig(\"convergence_vqe.svg\")"
   ]
  },
  {
   "cell_type": "markdown",
   "metadata": {},
   "source": [
    "### With Noise\n",
    "\n",
    "Qiskit provides noise models that you can use in your simulations. You can either create a custom noise model by specifying readout errors and errors for specific gates or load a realistic model based on one of the IBMQ hardware systems (see the [systems list](https://quantum-computing.ibm.com/systems)). Here we will load the noise model for the IBMQ Santiago quantum computer. At the time of writing, this system has a readout error of $3.33\\cdot 10^{-2}$ and a CNOT error of $8.489\\cdot 10^{-3}$. The depolarization time is $T_1=111.51\\,\\mathrm{µs}$ and the dephasing time is $T_2=74.55\\,\\mathrm{µs}$."
   ]
  },
  {
   "cell_type": "code",
   "execution_count": null,
   "metadata": {},
   "outputs": [],
   "source": [
    "from qiskit import IBMQ\n",
    "from qiskit.providers.aer.noise import NoiseModel\n",
    "\n",
    "provider = IBMQ.load_account()\n",
    "backend = provider.get_backend(\"ibmq_santiago\")\n",
    "noise_model = NoiseModel.from_backend(backend)\n",
    "coupling_map = backend.configuration().coupling_map\n",
    "basis_gates = noise_model.basis_gates"
   ]
  },
  {
   "cell_type": "code",
   "execution_count": null,
   "metadata": {},
   "outputs": [],
   "source": [
    "from qiskit.providers.aer import QasmSimulator\n",
    "\n",
    "backend = QasmSimulator(method=\"statevector\", max_parallel_experiments=0)\n",
    "\n",
    "quantum_instance = QuantumInstance(\n",
    "    backend,\n",
    "    seed_simulator=seed,\n",
    "    seed_transpiler=seed,\n",
    "    coupling_map=coupling_map,\n",
    "    noise_model=noise_model,\n",
    ")"
   ]
  },
  {
   "cell_type": "code",
   "execution_count": null,
   "metadata": {},
   "outputs": [],
   "source": [
    "means_vqe_noise = []\n",
    "stddevs_vqe_noise = []\n",
    "\n",
    "\n",
    "def callback(evaluations: int, parameters: numpy.ndarray, mean: float, stddev: float):\n",
    "    means_vqe_noise.append(mean)\n",
    "    stddevs_vqe_noise.append(stddev)\n",
    "\n",
    "\n",
    "vqe = VQE(\n",
    "    hamiltonian,\n",
    "    circuit,\n",
    "    optimizer,\n",
    "    quantum_instance=quantum_instance,\n",
    "    callback=callback,\n",
    ")\n",
    "result_vqe_noise = vqe.run()\n",
    "\n",
    "means_vqe_noise = numpy.array(means_vqe_noise)\n",
    "stddevs_vqe_noise = numpy.array(stddevs_vqe_noise)"
   ]
  },
  {
   "cell_type": "code",
   "execution_count": null,
   "metadata": {},
   "outputs": [],
   "source": [
    "fig, ax = plt.subplots(1, 1)\n",
    "iteration = [i for i, _ in enumerate(means_vqe_noise)]\n",
    "ax.fill_between(\n",
    "    iteration, means_vqe_noise - stddevs_vqe_noise + offset, means_vqe_noise + stddevs_vqe_noise + offset, alpha=0.5\n",
    ")\n",
    "ax.plot(iteration, means_vqe_noise + offset, label=\"VQE\")\n",
    "ax.axhline(energy_diag, color=\"C1\", label=\"exact\")\n",
    "ax.set_xlabel(\"iteration\")\n",
    "ax.set_ylabel(r\"$\\langle H_{\\mathrm{MC}}\\rangle$\")\n",
    "ax.set_title(\"VQE Convergence (Noise)\")\n",
    "ax.legend()\n",
    "ax.grid(True)\n",
    "fig.savefig(\"convergence_vqe_noise.svg\")"
   ]
  },
  {
   "cell_type": "markdown",
   "metadata": {},
   "source": [
    "### With Readout Error Mitigation"
   ]
  },
  {
   "cell_type": "code",
   "execution_count": null,
   "metadata": {},
   "outputs": [],
   "source": [
    "from qiskit.ignis.mitigation.measurement import CompleteMeasFitter\n",
    "\n",
    "backend = QasmSimulator(method=\"statevector\", max_parallel_experiments=0)\n",
    "\n",
    "quantum_instance = QuantumInstance(\n",
    "    backend,\n",
    "    seed_simulator=seed,\n",
    "    seed_transpiler=seed,\n",
    "    coupling_map=coupling_map,\n",
    "    noise_model=noise_model,\n",
    "    measurement_error_mitigation_cls=CompleteMeasFitter,\n",
    ")"
   ]
  },
  {
   "cell_type": "code",
   "execution_count": null,
   "metadata": {},
   "outputs": [],
   "source": [
    "means_vqe_mitigation = []\n",
    "stddevs_vqe_mitigation = []\n",
    "\n",
    "\n",
    "def callback(evaluations: int, parameters: numpy.ndarray, mean: float, stddev: float):\n",
    "    means_vqe_mitigation.append(mean)\n",
    "    stddevs_vqe_mitigation.append(stddev)\n",
    "\n",
    "\n",
    "vqe = VQE(\n",
    "    hamiltonian,\n",
    "    circuit,\n",
    "    optimizer,\n",
    "    quantum_instance=quantum_instance,\n",
    "    callback=callback,\n",
    ")\n",
    "result_vqe_mitigation = vqe.run()\n",
    "\n",
    "means_vqe_mitigation = numpy.array(means_vqe_mitigation)\n",
    "stddevs_vqe_mitigation = numpy.array(stddevs_vqe_mitigation)"
   ]
  },
  {
   "cell_type": "code",
   "execution_count": null,
   "metadata": {},
   "outputs": [],
   "source": [
    "fig, ax = plt.subplots(1, 1)\n",
    "iteration = [i for i, _ in enumerate(means_vqe_mitigation)]\n",
    "ax.fill_between(\n",
    "    iteration, means_vqe_mitigation - stddevs_vqe_mitigation + offset, means_vqe_mitigation + stddevs_vqe_mitigation + offset, alpha=0.5\n",
    ")\n",
    "ax.plot(iteration, means_vqe_mitigation + offset, label=\"VQE\")\n",
    "ax.axhline(energy_diag, color=\"C1\", label=\"exact\")\n",
    "ax.set_xlabel(\"iteration\")\n",
    "ax.set_ylabel(r\"$\\langle H_{\\mathrm{MC}}\\rangle$\")\n",
    "ax.set_title(\"VQE Convergence (Noise)\")\n",
    "ax.grid(True)\n",
    "fig.savefig(\"convergence_vqe_mitigation.svg\")"
   ]
  },
  {
   "cell_type": "code",
   "execution_count": null,
   "metadata": {},
   "outputs": [],
   "source": [
    "print(result_vqe)"
   ]
  },
  {
   "cell_type": "code",
   "execution_count": null,
   "metadata": {},
   "outputs": [],
   "source": [
    "print(result_vqe_noise)"
   ]
  },
  {
   "cell_type": "code",
   "execution_count": null,
   "metadata": {},
   "outputs": [],
   "source": [
    "print(result_vqe_mitigation)"
   ]
  },
  {
   "cell_type": "code",
   "execution_count": null,
   "metadata": {},
   "outputs": [],
   "source": []
  }
 ],
 "metadata": {
  "kernelspec": {
   "display_name": "Python 3",
   "language": "python",
   "name": "python3"
  },
  "language_info": {
   "codemirror_mode": {
    "name": "ipython",
    "version": 3
   },
   "file_extension": ".py",
   "mimetype": "text/x-python",
   "name": "python",
   "nbconvert_exporter": "python",
   "pygments_lexer": "ipython3",
   "version": "3.8.0"
  },
  "toc-autonumbering": false,
  "toc-showcode": false,
  "toc-showmarkdowntxt": false
 },
 "nbformat": 4,
 "nbformat_minor": 4
}
