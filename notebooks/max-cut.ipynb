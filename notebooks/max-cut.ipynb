{
 "cells": [
  {
   "cell_type": "code",
   "execution_count": null,
   "metadata": {},
   "outputs": [],
   "source": [
    "%matplotlib widget\n",
    "%config InlineBackend.figure_format = 'svg'\n",
    "import networkx\n",
    "from typing import List, Tuple, Optional, Union\n",
    "import matplotlib.pyplot as plt\n",
    "import numpy\n",
    "from qiskit.providers.aer import StatevectorSimulator\n",
    "from qiskit.providers.aer import QasmSimulator\n",
    "from qiskit.ignis.mitigation.measurement import CompleteMeasFitter\n",
    "from qiskit.aqua.algorithms import QAOA\n",
    "from qiskit.aqua.algorithms.minimum_eigen_solvers import MinimumEigensolverResult\n",
    "from qiskit.aqua.components.optimizers import SPSA, COBYLA\n",
    "from qiskit.aqua import QuantumInstance\n",
    "from qiskit.circuit.library import TwoLocal\n",
    "import matplotlib\n",
    "from qiskit.result import Counts\n",
    "from qiskit.optimization.applications.ising import max_cut\n",
    "from qiskit import aqua\n",
    "from qiskit import IBMQ\n",
    "from qiskit.providers.aer.noise import NoiseModel\n",
    "from qiskit.aqua.algorithms import NumPyMinimumEigensolver\n",
    "from qiskit.optimization.applications.ising.common import sample_most_likely, random_graph\n",
    "from qiskit.aqua.algorithms import VQE"
   ]
  },
  {
   "cell_type": "markdown",
   "metadata": {},
   "source": [
    "# Setup"
   ]
  },
  {
   "cell_type": "markdown",
   "metadata": {},
   "source": [
    "## Helper Routines"
   ]
  },
  {
   "cell_type": "code",
   "execution_count": null,
   "metadata": {},
   "outputs": [],
   "source": [
    "def generate_binary_list(index: int) -> List[int]:\n",
    "    # generate solution candidates (lists of 0's and 1's):\n",
    "    # 1. bin() converts to binary string\n",
    "    # 2. [:2] removes the '0b' prefix\n",
    "    # 3. .zfill(N) prepends 0s until a length of N has been achieved\n",
    "    return [int(digit) for digit in bin(combination)[2:].zfill(N)]\n",
    "\n",
    "def draw_graph(colors: List[str]):\n",
    "    fig, ax = plt.subplots(1, 1)\n",
    "    networkx.draw_networkx(graph, node_color=colors, ax=ax, pos=positions)\n",
    "    networkx.draw_networkx_edge_labels(\n",
    "        graph, positions, edge_labels=networkx.get_edge_attributes(graph, \"weight\")\n",
    "    )\n",
    "\n",
    "def plot_convergence(means: numpy.ndarray, stddevs: Optional[numpy.ndarray] = None) -> Tuple[matplotlib.figure.Figure, matplotlib.axes.Axes]:\n",
    "    fig, ax = plt.subplots(1, 1)\n",
    "    iterations = numpy.arange(len(means))\n",
    "    \n",
    "    if stddevs is not None:\n",
    "        ax.fill_between(iterations, means - stddevs, means + stddevs, alpha=0.5)\n",
    "        \n",
    "    ax.plot(iterations, means)\n",
    "    ax.axhline(energy_diag, color=\"C1\")\n",
    "    ax.grid(True)\n",
    "    ax.set_xlabel(r\"$iteration$\")\n",
    "    ax.set_ylabel(r\"$\\langle H_{\\mathrm{MC}} \\rangle$\")\n",
    "    return fig, ax\n",
    "\n",
    "def plot_parameter_convergence(parameters: numpy.ndarray) -> Tuple[matplotlib.figure.Figure, matplotlib.axes.Axes]:\n",
    "    num_parameters = parameters.shape[1]\n",
    "    iterations = numpy.arange(parameters.shape[0])\n",
    "    \n",
    "    fig, ax = plt.subplots(1, 1)\n",
    "    \n",
    "    for j in range(num_parameters):\n",
    "        ax.plot(iterations, parameters[:, j])\n",
    "    \n",
    "    ax.grid(True)\n",
    "    ax.set_xlabel(r\"$iteration$\")\n",
    "    ax.set_ylabel(r\"$\\theta_j$\")\n",
    "    return fig, ax\n",
    "\n",
    "def plot_eigenstate(eigenstate: Union[numpy.ndarray, Counts]) -> Tuple[matplotlib.figure.Figure, matplotlib.axes.Axes]:\n",
    "    fig, ax = plt.subplots(1, 1)\n",
    "    if isinstance(eigenstate, Counts):\n",
    "        ax.bar([key for key in eigenstate], [eigenstate[key] for key in eigenstate])\n",
    "        \n",
    "    for tick in ax.get_xticklabels():\n",
    "        tick.set_rotation(90)\n",
    "        \n",
    "    return fig, ax"
   ]
  },
  {
   "cell_type": "markdown",
   "metadata": {},
   "source": [
    "## Specify Graph"
   ]
  },
  {
   "cell_type": "code",
   "execution_count": null,
   "metadata": {},
   "outputs": [],
   "source": [
    "edges: List[Tuple[int, int, float]] = [\n",
    "    (0, 1, 1.0),\n",
    "    (0, 2, 1.0),\n",
    "    (1, 2, 1.0),\n",
    "    (1, 3, 1.0),\n",
    "    (2, 3, 1.0),\n",
    "]\n",
    "        \n",
    "graph = networkx.Graph()\n",
    "graph.add_weighted_edges_from(edges)\n",
    "N = graph.number_of_nodes()\n",
    "positions = networkx.spring_layout(graph)\n",
    "    \n",
    "\"\"\" random graph\n",
    "mat = random_graph(4, edge_prob=1.0, negative_weight=False)\n",
    "edges = []\n",
    "for i in range(4):\n",
    "    for j in range(i):\n",
    "        edges.append((i, j, mat[i,j]))\n",
    "\n",
    "        \n",
    "graph = networkx.Graph()\n",
    "graph.add_weighted_edges_from(edges)\n",
    "N = graph.number_of_nodes()\n",
    "positions = networkx.planar_layout(graph)\n",
    "\"\"\""
   ]
  },
  {
   "cell_type": "code",
   "execution_count": null,
   "metadata": {},
   "outputs": [],
   "source": [
    "draw_graph([\"C0\" for node in graph.nodes()])"
   ]
  },
  {
   "cell_type": "markdown",
   "metadata": {},
   "source": [
    "## Setup Problem for Qiskit\n",
    "\n",
    "First we obtain the weight matrix of the graph:"
   ]
  },
  {
   "cell_type": "code",
   "execution_count": null,
   "metadata": {},
   "outputs": [],
   "source": [
    "weight_matrix = networkx.convert_matrix.to_numpy_array(graph)\n",
    "weight_matrix"
   ]
  },
  {
   "cell_type": "markdown",
   "metadata": {},
   "source": [
    "Qiskit provides a handy routine to obtain the Ising Hamiltonian associated with the Maximum-Cut problem. It returns a weighted Ising operator and an energy offset from the constant term."
   ]
  },
  {
   "cell_type": "code",
   "execution_count": null,
   "metadata": {},
   "outputs": [],
   "source": [
    "hamiltonian, offset = max_cut.get_operator(weight_matrix)\n",
    "print(\"Hamiltonian:\")\n",
    "print(\"------------\")\n",
    "print(hamiltonian)\n",
    "print(\"energy offset:\", offset)\n",
    "print(hamiltonian.print_details())"
   ]
  },
  {
   "cell_type": "markdown",
   "metadata": {},
   "source": [
    "## Initialize Random Seeds"
   ]
  },
  {
   "cell_type": "code",
   "execution_count": null,
   "metadata": {},
   "outputs": [],
   "source": [
    "aqua.aqua_globals.random_seed = numpy.random.default_rng(498615)\n",
    "seed = 198687"
   ]
  },
  {
   "cell_type": "markdown",
   "metadata": {},
   "source": [
    "## Initialize Noise Model"
   ]
  },
  {
   "cell_type": "code",
   "execution_count": null,
   "metadata": {},
   "outputs": [],
   "source": [
    "provider = IBMQ.load_account()\n",
    "backend = provider.get_backend(\"ibmq_vigo\")\n",
    "noise_model = NoiseModel.from_backend(backend)\n",
    "coupling_map = backend.configuration().coupling_map\n",
    "basis_gates = noise_model.basis_gates"
   ]
  },
  {
   "cell_type": "markdown",
   "metadata": {},
   "source": [
    "# Solve the Problem"
   ]
  },
  {
   "cell_type": "markdown",
   "metadata": {},
   "source": [
    "## Brute-Force"
   ]
  },
  {
   "cell_type": "code",
   "execution_count": null,
   "metadata": {},
   "outputs": [],
   "source": [
    "best_profit = 0.0\n",
    "\n",
    "for combination in range(2 ** N):\n",
    "    # generate solution candidates (lists of 0's and 1's):\n",
    "    # 1. bin() converts to binary string\n",
    "    # 2. [:2] removes the '0b' prefix\n",
    "    # 3. .zfill(N) prepends 0s until a length of N has been achieved\n",
    "    binary = generate_binary_list(combination)\n",
    "\n",
    "    # evaluate the cost function\n",
    "    profit = 0.0\n",
    "    for i in range(N):\n",
    "        for j in range(N):\n",
    "            profit += weight_matrix[i, j] * binary[i] * (1 - binary[j])\n",
    "\n",
    "    # check if we found a better solution\n",
    "    if profit > best_profit:\n",
    "        best_profit = profit\n",
    "        solution = binary\n",
    "\n",
    "    # print info about current combination\n",
    "    print(\n",
    "        \"combination {}: binary = {}, profit = {}\".format(\n",
    "            combination, str(binary), profit\n",
    "        )\n",
    "    )\n",
    "\n",
    "print()\n",
    "print(\"optimal solution: binary = {}, profit = {}\".format(str(solution), best_profit))\n",
    "\n",
    "draw_graph([\"C1\" if solution[i] else \"C0\" for i in range(N)])"
   ]
  },
  {
   "cell_type": "markdown",
   "metadata": {},
   "source": [
    "## Diagonalize Ising Hamiltonian"
   ]
  },
  {
   "cell_type": "code",
   "execution_count": null,
   "metadata": {},
   "outputs": [],
   "source": [
    "result_diag = NumPyMinimumEigensolver(hamiltonian).run()\n",
    "energy_diag = result_diag.eigenvalue.real + offset\n",
    "\n",
    "state = sample_most_likely(result_diag.eigenstate)\n",
    "print(\"ground state energy:\", energy_diag)\n",
    "print(\"most likely binary string:\", state)\n",
    "draw_graph([\"C1\" if state[i] else \"C0\" for i in range(N)])"
   ]
  },
  {
   "cell_type": "markdown",
   "metadata": {},
   "source": [
    "## QAOA"
   ]
  },
  {
   "cell_type": "code",
   "execution_count": null,
   "metadata": {},
   "outputs": [],
   "source": [
    "QAOAResult = Tuple[QAOA, MinimumEigensolverResult, numpy.ndarray, numpy.ndarray, numpy.ndarray, numpy.ndarray]\n",
    "\n",
    "def run_qaoa(p: int, quantum_instance: QuantumInstance, optimizer) -> QAOAResult:\n",
    "    evaluations: List[float] = []\n",
    "    parameters: List[numpy.ndarray] = []\n",
    "    means: List[float] = []\n",
    "    stddevs: List[float] = []\n",
    "\n",
    "    def callback(evals: int, params: numpy.ndarray, mean: float, stddev: float):\n",
    "        evaluations.append(evals)\n",
    "        parameters.append(params)\n",
    "        means.append(mean)\n",
    "        stddevs.append(stddev)\n",
    "        \n",
    "    algorithm = QAOA(hamiltonian, optimizer, quantum_instance=quantum_instance, p=p, callback=callback, initial_point=numpy.random.random(2*p)*2*numpy.pi)\n",
    "    \n",
    "    result = algorithm, algorithm.compute_minimum_eigenvalue(), numpy.array(evaluations), numpy.array(parameters), numpy.array(means), numpy.array(stddevs)\n",
    "    \n",
    "    return result"
   ]
  },
  {
   "cell_type": "markdown",
   "metadata": {},
   "source": [
    "### Ideal"
   ]
  },
  {
   "cell_type": "code",
   "execution_count": null,
   "metadata": {},
   "outputs": [],
   "source": [
    "result_qaoa_ideal = run_qaoa(8, QuantumInstance(StatevectorSimulator(), seed_simulator=seed, seed_transpiler=seed), COBYLA())"
   ]
  },
  {
   "cell_type": "code",
   "execution_count": null,
   "metadata": {},
   "outputs": [],
   "source": [
    "plot_convergence(result_qaoa_ideal[4]+offset, result_qaoa_ideal[5])"
   ]
  },
  {
   "cell_type": "code",
   "execution_count": null,
   "metadata": {},
   "outputs": [],
   "source": [
    "plot_parameter_convergence(result_qaoa_ideal[3])"
   ]
  },
  {
   "cell_type": "code",
   "execution_count": null,
   "metadata": {},
   "outputs": [],
   "source": [
    "result_qaoa_ideal[1].eigenstate\n",
    "#fig,ax = plt.subplots(1,1)\n",
    "#eigenstate = result[1].eigenstate / numpy.sum(numpy.abs(result[1].eigenstate))\n",
    "#ax.plot(numpy.abs(eigenstate), marker=\".\", linestyle=None)"
   ]
  },
  {
   "cell_type": "markdown",
   "metadata": {},
   "source": [
    "### Noisy"
   ]
  },
  {
   "cell_type": "code",
   "execution_count": null,
   "metadata": {},
   "outputs": [],
   "source": [
    "result_qaoa_noisy = run_qaoa(8, QuantumInstance(\n",
    "    QasmSimulator(method=\"statevector\"),\n",
    "    seed_simulator=seed,\n",
    "    seed_transpiler=seed,\n",
    "    coupling_map=coupling_map,\n",
    "    noise_model=noise_model,\n",
    "    measurement_error_mitigation_cls=CompleteMeasFitter\n",
    "), COBYLA())"
   ]
  },
  {
   "cell_type": "code",
   "execution_count": null,
   "metadata": {},
   "outputs": [],
   "source": [
    "plot_convergence(result_qaoa_noisy[4]+offset, result_qaoa_noisy[5])"
   ]
  },
  {
   "cell_type": "code",
   "execution_count": null,
   "metadata": {},
   "outputs": [],
   "source": [
    "plot_parameter_convergence(result_qaoa_noisy[3])"
   ]
  },
  {
   "cell_type": "code",
   "execution_count": null,
   "metadata": {},
   "outputs": [],
   "source": [
    "plot_eigenstate(result_qaoa_noisy[1].eigenstate)"
   ]
  },
  {
   "cell_type": "markdown",
   "metadata": {},
   "source": [
    "## VQE with Ad-Hoc State"
   ]
  },
  {
   "cell_type": "code",
   "execution_count": null,
   "metadata": {},
   "outputs": [],
   "source": [
    "circuit = TwoLocal(hamiltonian.num_qubits, \"ry\", \"cz\", reps=5, entanglement=\"linear\")\n",
    "circuit.draw(filename=\"circuit.svg\")\n",
    "circuit"
   ]
  },
  {
   "cell_type": "code",
   "execution_count": null,
   "metadata": {},
   "outputs": [],
   "source": [
    "VQEResult = Tuple[VQE, MinimumEigensolverResult, numpy.ndarray, numpy.ndarray, numpy.ndarray, numpy.ndarray]\n",
    "\n",
    "def run_vqe(quantum_instance: QuantumInstance, optimizer) -> VQEResult:\n",
    "    evaluations: List[float] = []\n",
    "    parameters: List[numpy.ndarray] = []\n",
    "    means: List[float] = []\n",
    "    stddevs: List[float] = []\n",
    "\n",
    "    def callback(evals: int, params: numpy.ndarray, mean: float, stddev: float):\n",
    "        evaluations.append(evals)\n",
    "        parameters.append(params)\n",
    "        means.append(mean)\n",
    "        stddevs.append(stddev)\n",
    "        \n",
    "    algorithm = VQE(hamiltonian, circuit, optimizer, quantum_instance=quantum_instance, callback=callback)\n",
    "    \n",
    "    result = algorithm, algorithm.compute_minimum_eigenvalue(), numpy.array(evaluations), numpy.array(parameters), numpy.array(means), numpy.array(stddevs)\n",
    "    \n",
    "    return result"
   ]
  },
  {
   "cell_type": "markdown",
   "metadata": {},
   "source": [
    "### Ideal"
   ]
  },
  {
   "cell_type": "code",
   "execution_count": null,
   "metadata": {},
   "outputs": [],
   "source": [
    "result_vqe_ideal = run_vqe(QuantumInstance(StatevectorSimulator(), seed_simulator=seed, seed_transpiler=seed), COBYLA())"
   ]
  },
  {
   "cell_type": "code",
   "execution_count": null,
   "metadata": {},
   "outputs": [],
   "source": [
    "plot_convergence(result_vqe_ideal[4]+offset, result_vqe_ideal[5])"
   ]
  },
  {
   "cell_type": "code",
   "execution_count": null,
   "metadata": {},
   "outputs": [],
   "source": [
    "plot_parameter_convergence(result_vqe_ideal[3])"
   ]
  },
  {
   "cell_type": "markdown",
   "metadata": {},
   "source": [
    "### Noisy"
   ]
  },
  {
   "cell_type": "code",
   "execution_count": null,
   "metadata": {},
   "outputs": [],
   "source": [
    "result_vqe_noisy = run_vqe(QuantumInstance(\n",
    "    QasmSimulator(method=\"statevector\"),\n",
    "    seed_simulator=seed,\n",
    "    seed_transpiler=seed,\n",
    "    coupling_map=coupling_map,\n",
    "    noise_model=noise_model,\n",
    "    measurement_error_mitigation_cls=CompleteMeasFitter\n",
    "), COBYLA())"
   ]
  },
  {
   "cell_type": "code",
   "execution_count": null,
   "metadata": {},
   "outputs": [],
   "source": [
    "plot_convergence(result_vqe_noisy[4]+offset, result_vqe_noisy[5])"
   ]
  },
  {
   "cell_type": "code",
   "execution_count": null,
   "metadata": {},
   "outputs": [],
   "source": [
    "plot_parameter_convergence(result_vqe_noisy[3])"
   ]
  },
  {
   "cell_type": "code",
   "execution_count": null,
   "metadata": {},
   "outputs": [],
   "source": [
    "plot_eigenstate(result_vqe_noisy[1].eigenstate)"
   ]
  },
  {
   "cell_type": "code",
   "execution_count": null,
   "metadata": {},
   "outputs": [],
   "source": [
    "draw_graph([\"C1\" if [0,1,1,0][i] else \"C0\" for i in range(N)])"
   ]
  },
  {
   "cell_type": "code",
   "execution_count": null,
   "metadata": {},
   "outputs": [],
   "source": [
    "draw_graph([\"C1\" if [1,0,0,1][i] else \"C0\" for i in range(N)])"
   ]
  },
  {
   "cell_type": "code",
   "execution_count": null,
   "metadata": {},
   "outputs": [],
   "source": [
    "draw_graph([\"C1\" if [1,0,0,0][i] else \"C0\" for i in range(N)])"
   ]
  },
  {
   "cell_type": "code",
   "execution_count": null,
   "metadata": {},
   "outputs": [],
   "source": []
  }
 ],
 "metadata": {
  "kernelspec": {
   "display_name": "Python 3",
   "language": "python",
   "name": "python3"
  },
  "language_info": {
   "codemirror_mode": {
    "name": "ipython",
    "version": 3
   },
   "file_extension": ".py",
   "mimetype": "text/x-python",
   "name": "python",
   "nbconvert_exporter": "python",
   "pygments_lexer": "ipython3",
   "version": "3.8.0"
  }
 },
 "nbformat": 4,
 "nbformat_minor": 4
}
