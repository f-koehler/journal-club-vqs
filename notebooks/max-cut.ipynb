{
 "cells": [
  {
   "cell_type": "code",
   "execution_count": null,
   "metadata": {},
   "outputs": [],
   "source": [
    "%matplotlib widget\n",
    "import networkx\n",
    "from typing import List, Tuple\n",
    "import matplotlib.pyplot\n",
    "import numpy"
   ]
  },
  {
   "cell_type": "markdown",
   "metadata": {},
   "source": [
    "# Setup"
   ]
  },
  {
   "cell_type": "markdown",
   "metadata": {},
   "source": [
    "## Specify Graph"
   ]
  },
  {
   "cell_type": "code",
   "execution_count": null,
   "metadata": {},
   "outputs": [],
   "source": [
    "edges: List[Tuple[int, int, float]] = [\n",
    "    (0, 1, 1.0),\n",
    "    (0, 2, 1.0),\n",
    "    (1, 2, 1.0),\n",
    "    (1, 3, 1.0),\n",
    "    (2, 3, 1.0),\n",
    "]"
   ]
  },
  {
   "cell_type": "code",
   "execution_count": null,
   "metadata": {},
   "outputs": [],
   "source": [
    "graph = networkx.Graph()\n",
    "graph.add_weighted_edges_from(edges)\n",
    "N = graph.number_of_nodes()"
   ]
  },
  {
   "cell_type": "code",
   "execution_count": null,
   "metadata": {},
   "outputs": [],
   "source": [
    "positions = networkx.spring_layout(graph, fixed=[0,3], pos={0: (-0.5, 0), 3: (0.5, 0)})\n",
    "networkx.draw_networkx_nodes(graph, positions)\n",
    "networkx.draw_networkx_edges(graph, positions)\n",
    "networkx.draw_networkx_labels(graph, positions, font_color=\"white\")\n",
    "networkx.draw_networkx_edge_labels(graph, positions, edge_labels=networkx.get_edge_attributes(graph, 'weight'))\n",
    "matplotlib.pyplot.gcf().set_size_inches(3.2, 2.4)\n",
    "matplotlib.pyplot.gcf().set_tight_layout(True)\n",
    "\n",
    "# export SVG\n",
    "#cut = 1.2\n",
    "#xmax = cut * max(x for x, _ in positions.values())\n",
    "#ymax = cut * max(y for _, y in positions.values())\n",
    "#xmin = cut * min(x for x, _ in positions.values())\n",
    "#ymin = cut * min(y for _, y in positions.values())\n",
    "#matplotlib.pyplot.gca().set_xlim(xmin, xmax)\n",
    "#matplotlib.pyplot.gca().set_ylim(ymin, ymax)\n",
    "#matplotlib.pyplot.savefig(\"graph.svg\")\n",
    "#matplotlib.pyplot.close()\n",
    "\n",
    "\n",
    "matplotlib.pyplot.show()"
   ]
  },
  {
   "cell_type": "markdown",
   "metadata": {},
   "source": [
    "## Setup Problem for Qiskit\n",
    "\n",
    "First we obtain the weight matrix of the graph:"
   ]
  },
  {
   "cell_type": "code",
   "execution_count": null,
   "metadata": {},
   "outputs": [],
   "source": [
    "weight_matrix = networkx.convert_matrix.to_numpy_array(graph)\n",
    "weight_matrix"
   ]
  },
  {
   "cell_type": "markdown",
   "metadata": {},
   "source": [
    "Qiskit provides a handy routine to obtain the Ising Hamiltonian associated with the Maximum-Cut problem. It returns a weighted Ising operator and an energy offset from the constant term."
   ]
  },
  {
   "cell_type": "code",
   "execution_count": null,
   "metadata": {},
   "outputs": [],
   "source": [
    "from qiskit.optimization.applications.ising import max_cut\n",
    "\n",
    "hamiltonian, offset = max_cut.get_operator(weight_matrix)\n",
    "print(\"Hamiltonian:\")\n",
    "print(\"------------\")\n",
    "print(hamiltonian)\n",
    "print(\"energy offset:\", offset)\n",
    "print(hamiltonian.print_details())"
   ]
  },
  {
   "cell_type": "markdown",
   "metadata": {},
   "source": [
    "# Solve the Problem"
   ]
  },
  {
   "cell_type": "code",
   "execution_count": null,
   "metadata": {},
   "outputs": [],
   "source": [
    "def plot_solution(solution: List[int]):\n",
    "    colors = [\"C0\" if solution[i] else \"C1\" for i in range(N)]\n",
    "    networkx.draw_networkx_nodes(graph, positions, node_color=colors)\n",
    "    networkx.draw_networkx_edges(graph, positions)\n",
    "    networkx.draw_networkx_labels(graph, positions, font_color=\"white\")\n",
    "    networkx.draw_networkx_edge_labels(graph, positions, edge_labels=networkx.get_edge_attributes(graph, 'weight'))"
   ]
  },
  {
   "cell_type": "markdown",
   "metadata": {},
   "source": [
    "## Brute-Force"
   ]
  },
  {
   "cell_type": "code",
   "execution_count": null,
   "metadata": {},
   "outputs": [],
   "source": [
    "best_profit = 0.\n",
    "\n",
    "for combination in range(2**N):\n",
    "    # generate solution candidates (lists of 0's and 1's):\n",
    "    # 1. bin() converts to binary string\n",
    "    # 2. [:2] removes the '0b' prefix\n",
    "    # 3. .zfill(N) prepends 0s until a length of N has been achieved\n",
    "    binary = [int(digit) for digit in bin(combination)[2:].zfill(N)]\n",
    "    \n",
    "    # evaluate the cost function\n",
    "    profit = 0.0\n",
    "    for i in range(N):\n",
    "        for j in range(N):\n",
    "            profit += weight_matrix[i, j] * binary[i] * (1-binary[j])\n",
    "    \n",
    "    # check if we found a better solution\n",
    "    if profit > best_profit:\n",
    "        best_profit = profit\n",
    "        solution = binary\n",
    "    \n",
    "    # print info about current combination\n",
    "    print(\"combination {}: binary = {}, profit = {}\".format(combination, str(binary), profit))\n",
    "\n",
    "print()\n",
    "print(\"optimal solution: binary = {}, profit = {}\".format(str(solution), best_profit))\n",
    "\n",
    "plot_solution(solution)"
   ]
  },
  {
   "cell_type": "code",
   "execution_count": null,
   "metadata": {},
   "outputs": [],
   "source": [
    "plot_solution(solution)"
   ]
  },
  {
   "cell_type": "code",
   "execution_count": null,
   "metadata": {},
   "outputs": [],
   "source": []
  },
  {
   "cell_type": "code",
   "execution_count": null,
   "metadata": {},
   "outputs": [],
   "source": []
  }
 ],
 "metadata": {
  "kernelspec": {
   "display_name": "Python 3",
   "language": "python",
   "name": "python3"
  },
  "language_info": {
   "codemirror_mode": {
    "name": "ipython",
    "version": 3
   },
   "file_extension": ".py",
   "mimetype": "text/x-python",
   "name": "python",
   "nbconvert_exporter": "python",
   "pygments_lexer": "ipython3",
   "version": "3.9.1"
  }
 },
 "nbformat": 4,
 "nbformat_minor": 4
}
