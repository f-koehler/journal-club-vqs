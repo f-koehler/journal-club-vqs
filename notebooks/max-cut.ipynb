{
 "cells": [
  {
   "cell_type": "code",
   "execution_count": null,
   "metadata": {},
   "outputs": [],
   "source": [
    "%matplotlib widget\n",
    "import networkx\n",
    "from typing import List, Tuple\n",
    "import matplotlib.pyplot"
   ]
  },
  {
   "cell_type": "markdown",
   "metadata": {},
   "source": [
    "# Specify Graph"
   ]
  },
  {
   "cell_type": "code",
   "execution_count": null,
   "metadata": {},
   "outputs": [],
   "source": [
    "edges: List[Tuple[int, int, float]] = [\n",
    "    (0, 1, 1.0),\n",
    "    (0, 2, 1.0),\n",
    "    (1, 2, 1.0),\n",
    "    (1, 3, 1.0),\n",
    "    (2, 3, 1.0),\n",
    "]"
   ]
  },
  {
   "cell_type": "code",
   "execution_count": null,
   "metadata": {},
   "outputs": [],
   "source": [
    "graph = networkx.Graph()\n",
    "graph.add_weighted_edges_from(edges)"
   ]
  },
  {
   "cell_type": "code",
   "execution_count": null,
   "metadata": {},
   "outputs": [],
   "source": [
    "positions = networkx.spring_layout(graph, fixed=[0,3], pos={0: (-0.5, 0), 3: (0.5, 0)})\n",
    "networkx.draw_networkx_nodes(graph, positions)\n",
    "networkx.draw_networkx_edges(graph, positions)\n",
    "networkx.draw_networkx_labels(graph, positions, font_color=\"white\")\n",
    "networkx.draw_networkx_edge_labels(graph, positions, edge_labels=networkx.get_edge_attributes(graph, 'weight'))\n",
    "matplotlib.pyplot.gcf().set_size_inches(3.2, 2.4)\n",
    "matplotlib.pyplot.gcf().set_tight_layout(True)\n",
    "\n",
    "# export SVG\n",
    "#cut = 1.2\n",
    "#xmax = cut * max(x for x, _ in positions.values())\n",
    "#ymax = cut * max(y for _, y in positions.values())\n",
    "#xmin = cut * min(x for x, _ in positions.values())\n",
    "#ymin = cut * min(y for _, y in positions.values())\n",
    "#matplotlib.pyplot.gca().set_xlim(xmin, xmax)\n",
    "#matplotlib.pyplot.gca().set_ylim(ymin, ymax)\n",
    "#matplotlib.pyplot.savefig(\"graph.svg\")\n",
    "#matplotlib.pyplot.close()\n",
    "\n",
    "\n",
    "matplotlib.pyplot.show()"
   ]
  },
  {
   "cell_type": "code",
   "execution_count": null,
   "metadata": {},
   "outputs": [],
   "source": []
  }
 ],
 "metadata": {
  "kernelspec": {
   "display_name": "Python 3",
   "language": "python",
   "name": "python3"
  },
  "language_info": {
   "codemirror_mode": {
    "name": "ipython",
    "version": 3
   },
   "file_extension": ".py",
   "mimetype": "text/x-python",
   "name": "python",
   "nbconvert_exporter": "python",
   "pygments_lexer": "ipython3",
   "version": "3.9.1"
  }
 },
 "nbformat": 4,
 "nbformat_minor": 4
}
